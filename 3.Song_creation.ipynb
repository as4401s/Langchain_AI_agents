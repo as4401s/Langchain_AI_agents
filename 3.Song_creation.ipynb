{
 "cells": [
  {
   "cell_type": "code",
   "execution_count": 1,
   "metadata": {},
   "outputs": [
    {
     "name": "stdout",
     "output_type": "stream",
     "text": [
      "Here is the song you requested:\n",
      "(Verse 1)\n",
      "In the world of wonder, where creatures roam\n",
      "There's a secret world that few have known\n",
      "A world of trainers, and Pokémon too\n",
      "Where friendships grow, and battles shine through\n",
      "\n",
      "(Chorus)\n",
      "Pokémon, oh so brave and true\n",
      "With hearts that beat for me and you\n",
      "From Pikachu to Charizard's might\n",
      "We'll catch them all, on this journey tonight\n",
      "\n",
      "(Verse 2)\n",
      "I've got a team of trainers by my side\n",
      "Squirtle, Bulbasaur, and Charmander with pride\n",
      "We're on an adventure, through the wild and free\n",
      "Catching Pokémon, wherever we may be\n",
      "\n",
      "(Chorus)\n",
      "Pokémon, oh so brave and true\n",
      "With hearts that beat for me and you\n",
      "From Pikachu to Charizard's might\n",
      "We'll catch them all, on this journey tonight\n",
      "\n",
      "(Bridge)\n",
      "Brock and Misty too, are part of the crew\n",
      "Together we'll travel, and see it through\n",
      "Professor Oak will guide us on our way\n",
      "As we learn and grow, in this Pokémon day\n",
      "\n",
      "(Verse 3)\n",
      "From Viridian to Indigo, we've traveled far and wide\n",
      "Caught a few rare ones, side by side\n",
      "Eevee's evolved forms, are a wondrous sight\n",
      "And the legendary beasts, will shine so bright\n",
      "\n",
      "(Chorus)\n",
      "Pokémon, oh so brave and true\n",
      "With hearts that beat for me and you\n",
      "From Pikachu to Charizard's might\n",
      "We'll catch them all, on this journey tonight\n",
      "\n",
      "(Outro)\n",
      "Our adventure's just begun, with a dream in sight\n",
      "To be the greatest trainers, of the Pokémon light\n",
      "So let's grab our Poké Balls, and take flight\n",
      "For the world of Pokémon, is our shining delight.\n"
     ]
    }
   ],
   "source": [
    "from langchain_core.prompts import PromptTemplate\n",
    "from langchain_ollama import ChatOllama\n",
    "from langchain_core.output_parsers import StrOutputParser\n",
    "\n",
    "information = \"pokemon\"\n",
    "\n",
    "if __name__ == \"__main__\":\n",
    "    print('Here is the song you requested:')\n",
    "    \n",
    "    # Define the prompt template\n",
    "    summary_template = \"Write a song about {information}\"\n",
    "    summary_prompt_template = PromptTemplate(\n",
    "        input_variables=['information'],\n",
    "        template=summary_template\n",
    "    )\n",
    "    \n",
    "    # Initialize the language model\n",
    "    llm = ChatOllama(model='llama3.2')\n",
    "    \n",
    "    # Create a runnable sequence\n",
    "    chain = summary_prompt_template | llm | StrOutputParser()\n",
    "    \n",
    "    # Generate the response\n",
    "    res = chain.invoke({'information': information})\n",
    "    \n",
    "    # Print the result\n",
    "    print(res)"
   ]
  }
 ],
 "metadata": {
  "kernelspec": {
   "display_name": "ice_breaker-I43mtkmI",
   "language": "python",
   "name": "python3"
  },
  "language_info": {
   "codemirror_mode": {
    "name": "ipython",
    "version": 3
   },
   "file_extension": ".py",
   "mimetype": "text/x-python",
   "name": "python",
   "nbconvert_exporter": "python",
   "pygments_lexer": "ipython3",
   "version": "3.10.6"
  }
 },
 "nbformat": 4,
 "nbformat_minor": 2
}
